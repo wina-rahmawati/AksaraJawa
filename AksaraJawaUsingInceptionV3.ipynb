{
  "nbformat": 4,
  "nbformat_minor": 0,
  "metadata": {
    "colab": {
      "name": "AksaraJawaUsingInceptionV3",
      "provenance": [],
      "mount_file_id": "1NLppBjO6KC_1DdCI4n2IqgJqpfdcB2Ru",
      "authorship_tag": "ABX9TyNv+jTNUAsWEcrgdPimaWbQ",
      "include_colab_link": true
    },
    "kernelspec": {
      "name": "python3",
      "display_name": "Python 3"
    },
    "accelerator": "GPU"
  },
  "cells": [
    {
      "cell_type": "markdown",
      "metadata": {
        "id": "view-in-github",
        "colab_type": "text"
      },
      "source": [
        "<a href=\"https://colab.research.google.com/github/wina-rahmawati/AksaraJawa/blob/master/AksaraJawaUsingInceptionV3.ipynb\" target=\"_parent\"><img src=\"https://colab.research.google.com/assets/colab-badge.svg\" alt=\"Open In Colab\"/></a>"
      ]
    },
    {
      "cell_type": "code",
      "metadata": {
        "id": "iDv6gRQy_kdf",
        "colab_type": "code",
        "colab": {}
      },
      "source": [
        "import os\n",
        "import zipfile\n",
        "\n",
        "local_zip = '/content/drive/My Drive/Colab Notebooks/AJ/train.zip'\n",
        "zip_ref = zipfile.ZipFile(local_zip, 'r')\n",
        "zip_ref.extractall('/content/drive/My Drive/Colab Notebooks/AJ/')\n",
        "zip_ref.close()\n",
        "\n"
      ],
      "execution_count": 2,
      "outputs": []
    },
    {
      "cell_type": "code",
      "metadata": {
        "id": "Fltt8lEbLx0o",
        "colab_type": "code",
        "colab": {}
      },
      "source": [
        "local_zip = '/content/drive/My Drive/Colab Notebooks/AJ/test.zip'\n",
        "zip_ref = zipfile.ZipFile(local_zip, 'r')\n",
        "zip_ref.extractall('/content/drive/My Drive/Colab Notebooks/AJ/')\n",
        "zip_ref.close()"
      ],
      "execution_count": 3,
      "outputs": []
    },
    {
      "cell_type": "code",
      "metadata": {
        "id": "xgPyvf_UD6E4",
        "colab_type": "code",
        "colab": {
          "base_uri": "https://localhost:8080/",
          "height": 697
        },
        "outputId": "f507c300-f36d-4d0c-e373-8bd0f1aed9cc"
      },
      "source": [
        "ba_dir = os.path.join('/content/drive/My Drive/Colab Notebooks/AJ/train/ba')\n",
        "ca_dir = os.path.join('/content/drive/My Drive/Colab Notebooks/AJ/train/ca')\n",
        "da_dir = os.path.join('/content/drive/My Drive/Colab Notebooks/AJ/train/da')\n",
        "dha_dir = os.path.join('/content/drive/My Drive/Colab Notebooks/AJ/train/dha')\n",
        "ga_dir = os.path.join('/content/drive/My Drive/Colab Notebooks/AJ/train/ga')\n",
        "ha_dir = os.path.join('/content/drive/My Drive/Colab Notebooks/AJ/train/ha')\n",
        "ja_dir = os.path.join('/content/drive/My Drive/Colab Notebooks/AJ/train/ja')\n",
        "ka_dir = os.path.join('/content/drive/My Drive/Colab Notebooks/AJ/train/ka')\n",
        "la_dir = os.path.join('/content/drive/My Drive/Colab Notebooks/AJ/train/la')\n",
        "ma_dir = os.path.join('/content/drive/My Drive/Colab Notebooks/AJ/train/ma')\n",
        "na_dir = os.path.join('/content/drive/My Drive/Colab Notebooks/AJ/train/na')\n",
        "nga_dir = os.path.join('/content/drive/My Drive/Colab Notebooks/AJ/train/nga')\n",
        "nya_dir = os.path.join('/content/drive/My Drive/Colab Notebooks/AJ/train/nya')\n",
        "pa_dir = os.path.join('/content/drive/My Drive/Colab Notebooks/AJ/train/pa')\n",
        "ra_dir = os.path.join('/content/drive/My Drive/Colab Notebooks/AJ/train/ra')\n",
        "sa_dir = os.path.join('/content/drive/My Drive/Colab Notebooks/AJ/train/sa')\n",
        "ta_dir = os.path.join('/content/drive/My Drive/Colab Notebooks/AJ/train/ta')\n",
        "tha_dir = os.path.join('/content/drive/My Drive/Colab Notebooks/AJ/train/tha')\n",
        "wa_dir = os.path.join('/content/drive/My Drive/Colab Notebooks/AJ/train/wa')\n",
        "ya_dir = os.path.join('/content/drive/My Drive/Colab Notebooks/AJ/train/ya')\n",
        "\n",
        "\n",
        "print('Total training ba images:', len(os.listdir(ba_dir)))\n",
        "print('Total training ca images:', len(os.listdir(ca_dir)))\n",
        "print('Total training da images:', len(os.listdir(da_dir)))\n",
        "print('Total training dha images:', len(os.listdir(dha_dir)))\n",
        "print('Total training ga images:', len(os.listdir(ga_dir)))\n",
        "print('Total training ha images:', len(os.listdir(ha_dir)))\n",
        "print('Total training ja images:', len(os.listdir(ja_dir)))\n",
        "print('Total training ka images:', len(os.listdir(ka_dir)))\n",
        "print('Total training la images:', len(os.listdir(la_dir)))\n",
        "print('Total training ma images:', len(os.listdir(ma_dir)))\n",
        "print('Total training na images:', len(os.listdir(na_dir)))\n",
        "print('Total training nga images:', len(os.listdir(nga_dir)))\n",
        "print('Total training nya images:', len(os.listdir(nya_dir)))\n",
        "print('Total training pa images:', len(os.listdir(pa_dir)))\n",
        "print('Total training ra images:', len(os.listdir(ra_dir)))\n",
        "print('Total training sa images:', len(os.listdir(sa_dir)))\n",
        "print('Total training ta images:', len(os.listdir(ta_dir)))\n",
        "print('Total training tha images:', len(os.listdir(tha_dir)))\n",
        "print('Total training wa images:', len(os.listdir(wa_dir)))\n",
        "print('Total training ya images:', len(os.listdir(ya_dir)))\n",
        "\n",
        "\n",
        "\n",
        "ba_files = os.listdir(ba_dir)\n",
        "ca_files = os.listdir(ca_dir)\n",
        "da_files = os.listdir(da_dir)\n",
        "dha_files = os.listdir(dha_dir)\n",
        "ga_files = os.listdir(ga_dir)\n",
        "ha_files = os.listdir(ha_dir)\n",
        "ja_files = os.listdir(ja_dir)\n",
        "ka_files = os.listdir(ka_dir)\n",
        "la_files = os.listdir(la_dir)\n",
        "ma_files = os.listdir(ma_dir)\n",
        "na_files = os.listdir(na_dir)\n",
        "nga_files = os.listdir(nga_dir)\n",
        "nya_files = os.listdir(nya_dir)\n",
        "pa_files = os.listdir(pa_dir)\n",
        "ra_files = os.listdir(ra_dir)\n",
        "sa_files = os.listdir(sa_dir)\n",
        "ta_files = os.listdir(ta_dir)\n",
        "tha_files = os.listdir(tha_dir)\n",
        "wa_files = os.listdir(wa_dir)\n",
        "ya_files = os.listdir(ya_dir)\n",
        "\n",
        "\n",
        "print(ba_files[:5])\n",
        "print(ca_files[:5])\n",
        "print(da_files[:5])\n",
        "print(dha_files[:5])\n",
        "print(ga_files[:5])\n",
        "print(ha_files[:5])\n",
        "print(ja_files[:5])\n",
        "print(ka_files[:5])\n",
        "print(la_files[:5])\n",
        "print(ma_files[:5])\n",
        "print(na_files[:5])\n",
        "print(nga_files[:5])\n",
        "print(nya_files[:5])\n",
        "print(pa_files[:5])\n",
        "print(ra_files[:5])\n",
        "print(sa_files[:5])\n",
        "print(ta_files[:5])\n",
        "print(tha_files[:5])\n",
        "print(wa_files[:5])\n",
        "print(ya_files[:5])"
      ],
      "execution_count": 4,
      "outputs": [
        {
          "output_type": "stream",
          "text": [
            "Total training ba images: 114\n",
            "Total training ca images: 108\n",
            "Total training da images: 108\n",
            "Total training dha images: 114\n",
            "Total training ga images: 108\n",
            "Total training ha images: 102\n",
            "Total training ja images: 108\n",
            "Total training ka images: 108\n",
            "Total training la images: 108\n",
            "Total training ma images: 108\n",
            "Total training na images: 108\n",
            "Total training nga images: 102\n",
            "Total training nya images: 108\n",
            "Total training pa images: 108\n",
            "Total training ra images: 108\n",
            "Total training sa images: 108\n",
            "Total training ta images: 108\n",
            "Total training tha images: 108\n",
            "Total training wa images: 108\n",
            "Total training ya images: 108\n",
            "['ba116.pred3.b.png', 'ba116.pred3.png', 'ba116.pred3.r10.png', 'ba116.pred3.r5.png', 'ba116.pred3.rm10.png']\n",
            "['ca101.pred3.b.png', 'ca101.pred3.png', 'ca101.pred3.r10.png', 'ca101.pred3.r5.png', 'ca101.pred3.rm10.png']\n",
            "['da104.pred3.b.png', 'da104.pred3.png', 'da104.pred3.r10.png', 'da104.pred3.r5.png', 'da104.pred3.rm10.png']\n",
            "['dha0.mine.b.png', 'dha0.mine.png', 'dha0.mine.r10.png', 'dha0.mine.r5.png', 'dha0.mine.rm10.png']\n",
            "['ga115.pred3.b.png', 'ga115.pred3.png', 'ga115.pred3.r10.png', 'ga115.pred3.r5.png', 'ga115.pred3.rm10.png']\n",
            "['ha0.meki.b.png', 'ha0.meki.png', 'ha0.meki.r10.png', 'ha0.meki.r5.png', 'ha0.meki.rm10.png']\n",
            "['ja111.pred3.b.png', 'ja111.pred3.png', 'ja111.pred3.r10.png', 'ja111.pred3.r5.png', 'ja111.pred3.rm10.png']\n",
            "['ka103.pred3.b.png', 'ka103.pred3.png', 'ka103.pred3.r10.png', 'ka103.pred3.r5.png', 'ka103.pred3.rm10.png']\n",
            "['la108.pred3.b.png', 'la108.pred3.png', 'la108.pred3.r10.png', 'la108.pred3.r5.png', 'la108.pred3.rm10.png']\n",
            "['ma114.pred3.b.png', 'ma114.pred3.png', 'ma114.pred3.r10.png', 'ma114.pred3.r5.png', 'ma114.pred3.rm10.png']\n",
            "['na1.meki.b.png', 'na1.meki.png', 'na1.meki.r10.png', 'na1.meki.r5.png', 'na1.meki.rm10.png']\n",
            "['nga100.mine.b.png', 'nga100.mine.png', 'nga100.mine.r10.png', 'nga100.mine.r5.png', 'nga100.mine.rm10.png']\n",
            "['nya113.pred3.b.png', 'nya113.pred3.png', 'nya113.pred3.r10.png', 'nya113.pred3.r5.png', 'nya113.pred3.rm10.png']\n",
            "['pa10.meki.b.png', 'pa10.meki.png', 'pa10.meki.r10.png', 'pa10.meki.r5.png', 'pa10.meki.rm10.png']\n",
            "['ra102.pred3.b.png', 'ra102.pred3.png', 'ra102.pred3.r10.png', 'ra102.pred3.r5.png', 'ra102.pred3.rm10.png']\n",
            "['sa10.nando.b.png', 'sa10.nando.png', 'sa10.nando.r10.png', 'sa10.nando.r5.png', 'sa10.nando.rm10.png']\n",
            "['ta105.pred3.b.png', 'ta105.pred3.png', 'ta105.pred3.r10.png', 'ta105.pred3.r5.png', 'ta105.pred3.rm10.png']\n",
            "['tha117.pred3.b.png', 'tha117.pred3.png', 'tha117.pred3.r10.png', 'tha117.pred3.r5.png', 'tha117.pred3.rm10.png']\n",
            "['wa107.pred3.b.png', 'wa107.pred3.png', 'wa107.pred3.r10.png', 'wa107.pred3.r5.png', 'wa107.pred3.rm10.png']\n",
            "['ya112.pred3.b.png', 'ya112.pred3.png', 'ya112.pred3.r10.png', 'ya112.pred3.r5.png', 'ya112.pred3.rm10.png']\n"
          ],
          "name": "stdout"
        }
      ]
    },
    {
      "cell_type": "code",
      "metadata": {
        "id": "oWAmmWRrMIYu",
        "colab_type": "code",
        "colab": {
          "base_uri": "https://localhost:8080/",
          "height": 51
        },
        "outputId": "380f4dd9-020c-485e-b12b-56654c9d5b6a"
      },
      "source": [
        "import tensorflow as tf\n",
        "import keras_preprocessing\n",
        "from keras_preprocessing import image\n",
        "from keras_preprocessing.image import ImageDataGenerator\n",
        "\n",
        "TRAIN_DIR = '/content/drive/My Drive/Colab Notebooks/AJ/train'\n",
        "training_datagen = ImageDataGenerator(\n",
        "      rescale = 1./255,\n",
        "      width_shift_range = 0.2,\n",
        "      height_shift_range = 0.2,\n",
        "      shear_range = 0.2,\n",
        "      zoom_range = 0.2,\n",
        "      horizontal_flip = True,\n",
        "      fill_mode = 'nearest'\n",
        ")\n",
        "\n",
        "\n",
        "VALIDATION_DIR = '/content/drive/My Drive/Colab Notebooks/AJ/test'\n",
        "validation_datagen = ImageDataGenerator(rescale = 1./255)\n",
        "\n",
        "train_generator = training_datagen.flow_from_directory(\n",
        "    TRAIN_DIR,\n",
        "    target_size=(150,150),\n",
        "    class_mode='categorical',\n",
        "    batch_size = 16)\n",
        "\n",
        "validation_generator = validation_datagen.flow_from_directory(\n",
        "    VALIDATION_DIR,\n",
        "    target_size = (150,150),\n",
        "    class_mode = 'categorical',\n",
        "    batch_size = 16)"
      ],
      "execution_count": 34,
      "outputs": [
        {
          "output_type": "stream",
          "text": [
            "Found 2160 images belonging to 20 classes.\n",
            "Found 480 images belonging to 20 classes.\n"
          ],
          "name": "stdout"
        }
      ]
    },
    {
      "cell_type": "code",
      "metadata": {
        "id": "fLRScM3YNBrN",
        "colab_type": "code",
        "colab": {
          "base_uri": "https://localhost:8080/",
          "height": 527
        },
        "outputId": "624118d6-7d89-40b3-d6f5-6664239ba9be"
      },
      "source": [
        "model = tf.keras.models.Sequential([\n",
        "        #first convolution                     \n",
        "        tf.keras.layers.Conv2D(128, (3,3), activation = 'relu', input_shape = (150, 150, 3)),\n",
        "        tf.keras.layers.MaxPooling2D(2,2),\n",
        "        \n",
        "        #second convolution\n",
        "        tf.keras.layers.Conv2D(128, (3,3), activation = 'relu'),\n",
        "        tf.keras.layers.MaxPooling2D(2,2),\n",
        "\n",
        "        #third convolution\n",
        "        tf.keras.layers.Conv2D(128, (3,3), activation='relu'),\n",
        "        tf.keras.layers.MaxPooling2D(2,2),\n",
        "\n",
        "        tf.keras.layers.Conv2D(128, (3,3), activation='relu'),\n",
        "        tf.keras.layers.MaxPooling2D(2,2),\n",
        "\n",
        "        # Flatten the results to feed into a DNN\n",
        "        tf.keras.layers.Flatten(),\n",
        "\n",
        "        tf.keras.layers.Dense(512, activation = 'relu'),\n",
        "\n",
        "        tf.keras.layers.Dense(20, activation = 'sigmoid')\n",
        "])\n",
        "\n",
        "model.summary()\n",
        "\n",
        "model.compile(loss='categorical_crossentropy', optimizer='rmsprop', metrics=['accuracy'])"
      ],
      "execution_count": 69,
      "outputs": [
        {
          "output_type": "stream",
          "text": [
            "Model: \"sequential_8\"\n",
            "_________________________________________________________________\n",
            "Layer (type)                 Output Shape              Param #   \n",
            "=================================================================\n",
            "conv2d_314 (Conv2D)          (None, 148, 148, 128)     3584      \n",
            "_________________________________________________________________\n",
            "max_pooling2d_44 (MaxPooling (None, 74, 74, 128)       0         \n",
            "_________________________________________________________________\n",
            "conv2d_315 (Conv2D)          (None, 72, 72, 128)       147584    \n",
            "_________________________________________________________________\n",
            "max_pooling2d_45 (MaxPooling (None, 36, 36, 128)       0         \n",
            "_________________________________________________________________\n",
            "conv2d_316 (Conv2D)          (None, 34, 34, 128)       147584    \n",
            "_________________________________________________________________\n",
            "max_pooling2d_46 (MaxPooling (None, 17, 17, 128)       0         \n",
            "_________________________________________________________________\n",
            "conv2d_317 (Conv2D)          (None, 15, 15, 128)       147584    \n",
            "_________________________________________________________________\n",
            "max_pooling2d_47 (MaxPooling (None, 7, 7, 128)         0         \n",
            "_________________________________________________________________\n",
            "flatten_15 (Flatten)         (None, 6272)              0         \n",
            "_________________________________________________________________\n",
            "dense_30 (Dense)             (None, 512)               3211776   \n",
            "_________________________________________________________________\n",
            "dense_31 (Dense)             (None, 20)                10260     \n",
            "=================================================================\n",
            "Total params: 3,668,372\n",
            "Trainable params: 3,668,372\n",
            "Non-trainable params: 0\n",
            "_________________________________________________________________\n"
          ],
          "name": "stdout"
        }
      ]
    },
    {
      "cell_type": "code",
      "metadata": {
        "id": "e3gO3wokNMzJ",
        "colab_type": "code",
        "colab": {
          "base_uri": "https://localhost:8080/",
          "height": 377
        },
        "outputId": "c0e7cd5d-f901-46cd-e61a-4a9181bfd465"
      },
      "source": [
        "history = model.fit(\n",
        "        train_generator,\n",
        "        epochs=10,\n",
        "        steps_per_epoch = 20,\n",
        "        validation_data = validation_generator,\n",
        "        verbose=1,\n",
        "        validation_steps=20)"
      ],
      "execution_count": 70,
      "outputs": [
        {
          "output_type": "stream",
          "text": [
            "Epoch 1/10\n",
            "20/20 [==============================] - 3s 162ms/step - loss: 3.0260 - accuracy: 0.0406 - val_loss: 3.0367 - val_accuracy: 0.0437\n",
            "Epoch 2/10\n",
            "20/20 [==============================] - 3s 157ms/step - loss: 3.0081 - accuracy: 0.0500 - val_loss: 2.9952 - val_accuracy: 0.0594\n",
            "Epoch 3/10\n",
            "20/20 [==============================] - 3s 158ms/step - loss: 2.9985 - accuracy: 0.0250 - val_loss: 2.9976 - val_accuracy: 0.0562\n",
            "Epoch 4/10\n",
            "20/20 [==============================] - 3s 157ms/step - loss: 3.0694 - accuracy: 0.0500 - val_loss: 2.9968 - val_accuracy: 0.0437\n",
            "Epoch 5/10\n",
            "20/20 [==============================] - 3s 156ms/step - loss: 2.9998 - accuracy: 0.0531 - val_loss: 2.9954 - val_accuracy: 0.0437\n",
            "Epoch 6/10\n",
            "20/20 [==============================] - 3s 159ms/step - loss: 2.9973 - accuracy: 0.0531 - val_loss: 2.9947 - val_accuracy: 0.0500\n",
            "Epoch 7/10\n",
            "20/20 [==============================] - 3s 157ms/step - loss: 2.9965 - accuracy: 0.0594 - val_loss: 2.9906 - val_accuracy: 0.0562\n",
            "Epoch 8/10\n",
            "20/20 [==============================] - 3s 156ms/step - loss: 2.9956 - accuracy: 0.0594 - val_loss: 2.9793 - val_accuracy: 0.0750\n",
            "Epoch 9/10\n",
            "20/20 [==============================] - 3s 160ms/step - loss: 3.0237 - accuracy: 0.0938 - val_loss: 2.9418 - val_accuracy: 0.0469\n",
            "Epoch 10/10\n",
            "20/20 [==============================] - 3s 165ms/step - loss: 2.9124 - accuracy: 0.0938 - val_loss: 2.9729 - val_accuracy: 0.1094\n"
          ],
          "name": "stdout"
        }
      ]
    },
    {
      "cell_type": "code",
      "metadata": {
        "id": "Ulq8rMJ8NuDS",
        "colab_type": "code",
        "colab": {
          "base_uri": "https://localhost:8080/",
          "height": 562
        },
        "outputId": "77a586bd-93da-41b6-ddd2-c17d4f129ceb"
      },
      "source": [
        "import matplotlib.pyplot as plt\n",
        "#Evaluasi plot\n",
        "acc = history.history['accuracy']\n",
        "val_acc = history.history['val_accuracy']\n",
        "\n",
        "loss = history.history['loss']\n",
        "val_loss = history.history['val_loss']\n",
        "\n",
        "epochs = range(len(acc))\n",
        "\n",
        "plt.plot(epochs, acc)\n",
        "plt.plot(epochs, val_acc)\n",
        "plt.title('Training and Validation accuracy')\n",
        "\n",
        "plt.figure()\n",
        "\n",
        "#loss plot\n",
        "plt.plot(epochs, loss)\n",
        "plt.plot(epochs, val_loss)\n",
        "plt.title('Training and Validation Loss')"
      ],
      "execution_count": 57,
      "outputs": [
        {
          "output_type": "execute_result",
          "data": {
            "text/plain": [
              "Text(0.5, 1.0, 'Training and Validation Loss')"
            ]
          },
          "metadata": {
            "tags": []
          },
          "execution_count": 57
        },
        {
          "output_type": "display_data",
          "data": {
            "image/png": "[encoded data removed]",
            "text/plain": [
              "<Figure size 432x288 with 1 Axes>"
            ]
          },
          "metadata": {
            "tags": [],
            "needs_background": "light"
          }
        },
        {
          "output_type": "display_data",
          "data": {
            "image/png": "[encoded data removed]",
            "text/plain": [
              "<Figure size 432x288 with 1 Axes>"
            ]
          },
          "metadata": {
            "tags": [],
            "needs_background": "light"
          }
        }
      ]
    },
    {
      "cell_type": "code",
      "metadata": {
        "id": "vjNuwkIPP5Kj",
        "colab_type": "code",
        "colab": {
          "base_uri": "https://localhost:8080/",
          "height": 224
        },
        "outputId": "031489d4-4d70-4d1c-f1e3-9e2742943c86"
      },
      "source": [
        "!wget --no-check-certificate \\\n",
        "  https://storage.googleapis.com/mledu-datasets/inception_v3_weights_tf_dim_ordering_tf_kernels_notop.h5 \\\n",
        "    -O /tmp/inception_v3_weights_tf_dim_ordering_tf_kernels_notop.h5"
      ],
      "execution_count": 58,
      "outputs": [
        {
          "output_type": "stream",
          "text": [
            "--2020-08-19 03:01:50--  https://storage.googleapis.com/mledu-datasets/inception_v3_weights_tf_dim_ordering_tf_kernels_notop.h5\n",
            "Resolving storage.googleapis.com (storage.googleapis.com)... 108.177.126.128, 108.177.127.128, 108.177.119.128, ...\n",
            "Connecting to storage.googleapis.com (storage.googleapis.com)|108.177.126.128|:443... connected.\n",
            "HTTP request sent, awaiting response... 200 OK\n",
            "Length: 87910968 (84M) [application/x-hdf]\n",
            "Saving to: ‘/tmp/inception_v3_weights_tf_dim_ordering_tf_kernels_notop.h5’\n",
            "\n",
            "/tmp/inception_v3_w 100%[===================>]  83.84M  63.7MB/s    in 1.3s    \n",
            "\n",
            "2020-08-19 03:01:52 (63.7 MB/s) - ‘/tmp/inception_v3_weights_tf_dim_ordering_tf_kernels_notop.h5’ saved [87910968/87910968]\n",
            "\n"
          ],
          "name": "stdout"
        }
      ]
    },
    {
      "cell_type": "code",
      "metadata": {
        "id": "j8iA_4tog3iV",
        "colab_type": "code",
        "colab": {}
      },
      "source": [
        "from tensorflow.keras.applications.inception_v3 import InceptionV3"
      ],
      "execution_count": 59,
      "outputs": []
    },
    {
      "cell_type": "code",
      "metadata": {
        "id": "TTS2UFXBg-Cw",
        "colab_type": "code",
        "colab": {}
      },
      "source": [
        "local_weights_file = '/tmp/inception_v3_weights_tf_dim_ordering_tf_kernels_notop.h5'\n",
        "\n",
        "pre_trained_model = InceptionV3(\n",
        "                    input_shape=(150, 150, 3), include_top=False, weights=None)\n",
        "pre_trained_model.load_weights(local_weights_file)"
      ],
      "execution_count": 71,
      "outputs": []
    },
    {
      "cell_type": "code",
      "metadata": {
        "id": "Q7PtDJnAhCcH",
        "colab_type": "code",
        "colab": {}
      },
      "source": [
        "for layer in pre_trained_model.layers:\n",
        "  layer.trainable = False"
      ],
      "execution_count": 72,
      "outputs": []
    },
    {
      "cell_type": "code",
      "metadata": {
        "id": "7g7SedBBhLs3",
        "colab_type": "code",
        "colab": {
          "base_uri": "https://localhost:8080/",
          "height": 34
        },
        "outputId": "f8f019d4-fb4b-4853-d7d8-1ed27d4d3a45"
      },
      "source": [
        "last_layer = pre_trained_model.get_layer('mixed7')\n",
        "print('last output shape:', last_layer.output_shape)\n",
        "last_output = last_layer.output"
      ],
      "execution_count": 73,
      "outputs": [
        {
          "output_type": "stream",
          "text": [
            "last output shape: (None, 7, 7, 768)\n"
          ],
          "name": "stdout"
        }
      ]
    },
    {
      "cell_type": "code",
      "metadata": {
        "id": "E8Ie_VLvhOdf",
        "colab_type": "code",
        "colab": {}
      },
      "source": [
        "from tensorflow.keras.optimizers import RMSprop\n",
        "from tensorflow.keras import layers\n",
        "from tensorflow.keras import Model\n",
        "\n",
        "# Flatten the output layer to 1 dimension\n",
        "x = layers.Flatten()(last_output)\n",
        "# Add a fully connected layer with 1,024 hidden units and ReLU activation\n",
        "x = layers.Dense(1024, activation='relu')(x)\n",
        "# Add a dropout rate of 0.2\n",
        "x = layers.Dropout(0.2)(x)                  \n",
        "# Add a final sigmoid layer for classification\n",
        "x = layers.Dense  (20, activation='sigmoid')(x)           \n",
        "\n",
        "model = Model( pre_trained_model.input, x) \n",
        "\n",
        "model.compile(optimizer = RMSprop(lr=0.0001), \n",
        "              loss = 'categorical_crossentropy', \n",
        "              metrics = ['accuracy'])"
      ],
      "execution_count": 77,
      "outputs": []
    },
    {
      "cell_type": "code",
      "metadata": {
        "id": "pNalW_KRoYk0",
        "colab_type": "code",
        "colab": {}
      },
      "source": [
        "# Define a Callback class that stops training once accuracy reaches 90.0%\n",
        "class myCallback(tf.keras.callbacks.Callback):\n",
        "  def on_epoch_end(self, epoch, logs={}):\n",
        "    if(logs.get('accuracy')>0.90):\n",
        "      print(\"\\nReached 90.0% accuracy so cancelling training!\")\n",
        "      self.model.stop_training = True"
      ],
      "execution_count": 78,
      "outputs": []
    },
    {
      "cell_type": "code",
      "metadata": {
        "id": "Je5rhePpheFY",
        "colab_type": "code",
        "colab": {
          "base_uri": "https://localhost:8080/",
          "height": 1000
        },
        "outputId": "14fd48eb-c59f-49b7-f881-c95bb3b220d4"
      },
      "source": [
        "callback = myCallback()\n",
        "history = model.fit_generator(\n",
        "    train_generator,\n",
        "    steps_per_epoch=20,\n",
        "    epochs=30,\n",
        "    validation_data=validation_generator,\n",
        "    validation_steps=3,\n",
        "    verbose=1,\n",
        "    callbacks = callback)"
      ],
      "execution_count": 79,
      "outputs": [
        {
          "output_type": "stream",
          "text": [
            "Epoch 1/30\n",
            "20/20 [==============================] - 3s 169ms/step - loss: 3.0777 - accuracy: 0.0594 - val_loss: 2.9031 - val_accuracy: 0.0417\n",
            "Epoch 2/30\n",
            "20/20 [==============================] - 3s 125ms/step - loss: 2.9059 - accuracy: 0.0906 - val_loss: 2.7935 - val_accuracy: 0.0625\n",
            "Epoch 3/30\n",
            "20/20 [==============================] - 3s 127ms/step - loss: 2.7272 - accuracy: 0.0875 - val_loss: 2.9098 - val_accuracy: 0.2500\n",
            "Epoch 4/30\n",
            "20/20 [==============================] - 3s 127ms/step - loss: 2.5145 - accuracy: 0.2844 - val_loss: 2.2061 - val_accuracy: 0.2292\n",
            "Epoch 5/30\n",
            "20/20 [==============================] - 3s 127ms/step - loss: 2.2069 - accuracy: 0.3406 - val_loss: 2.0812 - val_accuracy: 0.4167\n",
            "Epoch 6/30\n",
            "20/20 [==============================] - 3s 126ms/step - loss: 1.8828 - accuracy: 0.4250 - val_loss: 1.4964 - val_accuracy: 0.5000\n",
            "Epoch 7/30\n",
            "20/20 [==============================] - 3s 128ms/step - loss: 1.7691 - accuracy: 0.4531 - val_loss: 1.5284 - val_accuracy: 0.5833\n",
            "Epoch 8/30\n",
            "20/20 [==============================] - 3s 130ms/step - loss: 1.6939 - accuracy: 0.4531 - val_loss: 1.5409 - val_accuracy: 0.5000\n",
            "Epoch 9/30\n",
            "20/20 [==============================] - 3s 129ms/step - loss: 1.4244 - accuracy: 0.5656 - val_loss: 1.7785 - val_accuracy: 0.5417\n",
            "Epoch 10/30\n",
            "20/20 [==============================] - 3s 130ms/step - loss: 1.4931 - accuracy: 0.5312 - val_loss: 1.4437 - val_accuracy: 0.4167\n",
            "Epoch 11/30\n",
            "20/20 [==============================] - 3s 128ms/step - loss: 1.3076 - accuracy: 0.5312 - val_loss: 1.4610 - val_accuracy: 0.4792\n",
            "Epoch 12/30\n",
            "20/20 [==============================] - 3s 127ms/step - loss: 1.3734 - accuracy: 0.5562 - val_loss: 1.0678 - val_accuracy: 0.6667\n",
            "Epoch 13/30\n",
            "20/20 [==============================] - 3s 129ms/step - loss: 1.2588 - accuracy: 0.5938 - val_loss: 0.8884 - val_accuracy: 0.8125\n",
            "Epoch 14/30\n",
            "20/20 [==============================] - 3s 129ms/step - loss: 1.1525 - accuracy: 0.6250 - val_loss: 1.2006 - val_accuracy: 0.6667\n",
            "Epoch 15/30\n",
            "20/20 [==============================] - 3s 127ms/step - loss: 1.3248 - accuracy: 0.5750 - val_loss: 1.1005 - val_accuracy: 0.6042\n",
            "Epoch 16/30\n",
            "20/20 [==============================] - 3s 128ms/step - loss: 1.1281 - accuracy: 0.6656 - val_loss: 1.0215 - val_accuracy: 0.6458\n",
            "Epoch 17/30\n",
            "20/20 [==============================] - 3s 127ms/step - loss: 1.1702 - accuracy: 0.6500 - val_loss: 1.2363 - val_accuracy: 0.6042\n",
            "Epoch 18/30\n",
            "20/20 [==============================] - 3s 128ms/step - loss: 1.0421 - accuracy: 0.6469 - val_loss: 1.1269 - val_accuracy: 0.5417\n",
            "Epoch 19/30\n",
            "20/20 [==============================] - 3s 128ms/step - loss: 0.9903 - accuracy: 0.6938 - val_loss: 1.0218 - val_accuracy: 0.6458\n",
            "Epoch 20/30\n",
            "20/20 [==============================] - 3s 128ms/step - loss: 0.9300 - accuracy: 0.7219 - val_loss: 0.8938 - val_accuracy: 0.6667\n",
            "Epoch 21/30\n",
            "20/20 [==============================] - 3s 130ms/step - loss: 0.9621 - accuracy: 0.6687 - val_loss: 0.6307 - val_accuracy: 0.7500\n",
            "Epoch 22/30\n",
            "20/20 [==============================] - 3s 127ms/step - loss: 1.0034 - accuracy: 0.6562 - val_loss: 1.0442 - val_accuracy: 0.6042\n",
            "Epoch 23/30\n",
            "20/20 [==============================] - 3s 126ms/step - loss: 0.9257 - accuracy: 0.7031 - val_loss: 0.9604 - val_accuracy: 0.7083\n",
            "Epoch 24/30\n",
            "20/20 [==============================] - 3s 125ms/step - loss: 0.8348 - accuracy: 0.7156 - val_loss: 0.9809 - val_accuracy: 0.6667\n",
            "Epoch 25/30\n",
            "20/20 [==============================] - 3s 127ms/step - loss: 0.8341 - accuracy: 0.7063 - val_loss: 0.7486 - val_accuracy: 0.7500\n",
            "Epoch 26/30\n",
            "20/20 [==============================] - 3s 131ms/step - loss: 0.8929 - accuracy: 0.7094 - val_loss: 0.7772 - val_accuracy: 0.7292\n",
            "Epoch 27/30\n",
            "20/20 [==============================] - 3s 131ms/step - loss: 0.7094 - accuracy: 0.7750 - val_loss: 0.7352 - val_accuracy: 0.7292\n",
            "Epoch 28/30\n",
            "20/20 [==============================] - 3s 133ms/step - loss: 0.8424 - accuracy: 0.7250 - val_loss: 0.9094 - val_accuracy: 0.6042\n",
            "Epoch 29/30\n",
            "20/20 [==============================] - 3s 134ms/step - loss: 0.7375 - accuracy: 0.7531 - val_loss: 0.8584 - val_accuracy: 0.7500\n",
            "Epoch 30/30\n",
            "20/20 [==============================] - 3s 135ms/step - loss: 0.8652 - accuracy: 0.7250 - val_loss: 0.6249 - val_accuracy: 0.7083\n"
          ],
          "name": "stdout"
        }
      ]
    },
    {
      "cell_type": "code",
      "metadata": {
        "id": "QLpZ89cLj4cn",
        "colab_type": "code",
        "colab": {
          "base_uri": "https://localhost:8080/",
          "height": 562
        },
        "outputId": "dba3cfbc-da64-4b57-e5f4-baf8379ed238"
      },
      "source": [
        "import matplotlib.pyplot as plt\n",
        "#Evaluasi plot\n",
        "acc = history.history['accuracy']\n",
        "val_acc = history.history['val_accuracy']\n",
        "\n",
        "loss = history.history['loss']\n",
        "val_loss = history.history['val_loss']\n",
        "\n",
        "epochs = range(len(acc))\n",
        "\n",
        "plt.plot(epochs, acc)\n",
        "plt.plot(epochs, val_acc)\n",
        "plt.title('Training and Validation accuracy')\n",
        "\n",
        "plt.figure()\n",
        "\n",
        "#loss plot\n",
        "plt.plot(epochs, loss)\n",
        "plt.plot(epochs, val_loss)\n",
        "plt.title('Training and Validation Loss')"
      ],
      "execution_count": 53,
      "outputs": [
        {
          "output_type": "execute_result",
          "data": {
            "text/plain": [
              "Text(0.5, 1.0, 'Training and Validation Loss')"
            ]
          },
          "metadata": {
            "tags": []
          },
          "execution_count": 53
        },
        {
          "output_type": "display_data",
          "data": {
            "image/png": "[encoded data removed]",
            "text/plain": [
              "<Figure size 432x288 with 1 Axes>"
            ]
          },
          "metadata": {
            "tags": [],
            "needs_background": "light"
          }
        },
        {
          "output_type": "display_data",
          "data": {
            "image/png": "[encoded data removed]",
            "text/plain": [
              "<Figure size 432x288 with 1 Axes>"
            ]
          },
          "metadata": {
            "tags": [],
            "needs_background": "light"
          }
        }
      ]
    },
    {
      "cell_type": "code",
      "metadata": {
        "id": "6jm0WEiElBA9",
        "colab_type": "code",
        "colab": {}
      },
      "source": [
        ""
      ],
      "execution_count": null,
      "outputs": []
    }
  ]
}